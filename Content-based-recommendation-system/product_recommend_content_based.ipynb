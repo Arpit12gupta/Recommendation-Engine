{
  "nbformat": 4,
  "nbformat_minor": 0,
  "metadata": {
    "kernelspec": {
      "display_name": "Python 3",
      "language": "python",
      "name": "python3"
    },
    "language_info": {
      "codemirror_mode": {
        "name": "ipython",
        "version": 3
      },
      "file_extension": ".py",
      "mimetype": "text/x-python",
      "name": "python",
      "nbconvert_exporter": "python",
      "pygments_lexer": "ipython3",
      "version": "3.7.6"
    },
    "colab": {
      "name": "product_recommend_content_based.ipynb",
      "provenance": [],
      "collapsed_sections": []
    }
  },
  "cells": [
    {
      "cell_type": "code",
      "metadata": {
        "id": "VdU8COu_8voK",
        "colab_type": "code",
        "colab": {
          "base_uri": "https://localhost:8080/",
          "height": 52
        },
        "outputId": "e5ccdfb4-bdb2-4f8e-fcb2-4eb3e17c711f"
      },
      "source": [
        "import pandas as pd\n",
        "import numpy as np\n",
        "from sklearn.feature_extraction.text import CountVectorizer\n",
        "from sklearn.metrics.pairwise import cosine_similarity\n",
        "from nltk.corpus import stopwords\n",
        "import nltk\n",
        "nltk.download('stopwords')\n",
        "%matplotlib inline\n",
        "import warnings\n",
        "warnings.filterwarnings('ignore')"
      ],
      "execution_count": 39,
      "outputs": [
        {
          "output_type": "stream",
          "text": [
            "[nltk_data] Downloading package stopwords to /root/nltk_data...\n",
            "[nltk_data]   Package stopwords is already up-to-date!\n"
          ],
          "name": "stdout"
        }
      ]
    },
    {
      "cell_type": "code",
      "metadata": {
        "id": "6Bx_IfZ78voV",
        "colab_type": "code",
        "colab": {}
      },
      "source": [
        "url=\"https://raw.githubusercontent.com/Arpit12gupta/ML-Dataset/master/wayfair_uniq.csv\"\n",
        "df = pd.read_csv(url)\n",
        "df_new=df.iloc[:,[3,4,5,7,9,11,13,15,17,18,19]]"
      ],
      "execution_count": 40,
      "outputs": []
    },
    {
      "cell_type": "code",
      "metadata": {
        "id": "1mtYQOWp8vod",
        "colab_type": "code",
        "colab": {}
      },
      "source": [
        "df_new['index'] = df_new.index"
      ],
      "execution_count": 41,
      "outputs": []
    },
    {
      "cell_type": "code",
      "metadata": {
        "id": "wYxkXRKV8vok",
        "colab_type": "code",
        "colab": {
          "base_uri": "https://localhost:8080/",
          "height": 34
        },
        "outputId": "0e2857eb-6058-4838-fe3f-3d142511a896"
      },
      "source": [
        "df_new.shape"
      ],
      "execution_count": 42,
      "outputs": [
        {
          "output_type": "execute_result",
          "data": {
            "text/plain": [
              "(17209, 12)"
            ]
          },
          "metadata": {
            "tags": []
          },
          "execution_count": 42
        }
      ]
    },
    {
      "cell_type": "code",
      "metadata": {
        "id": "8UaXSsJR8vop",
        "colab_type": "code",
        "colab": {
          "base_uri": "https://localhost:8080/",
          "height": 487
        },
        "outputId": "20fb0e04-774e-4d19-d921-04dd98c18b6b"
      },
      "source": [
        "df_new.head()"
      ],
      "execution_count": 43,
      "outputs": [
        {
          "output_type": "execute_result",
          "data": {
            "text/html": [
              "<div>\n",
              "<style scoped>\n",
              "    .dataframe tbody tr th:only-of-type {\n",
              "        vertical-align: middle;\n",
              "    }\n",
              "\n",
              "    .dataframe tbody tr th {\n",
              "        vertical-align: top;\n",
              "    }\n",
              "\n",
              "    .dataframe thead th {\n",
              "        text-align: right;\n",
              "    }\n",
              "</style>\n",
              "<table border=\"1\" class=\"dataframe\">\n",
              "  <thead>\n",
              "    <tr style=\"text-align: right;\">\n",
              "      <th></th>\n",
              "      <th>product_name</th>\n",
              "      <th>product_name_link</th>\n",
              "      <th>manufacturer</th>\n",
              "      <th>price</th>\n",
              "      <th>original_price</th>\n",
              "      <th>review_count</th>\n",
              "      <th>review_data</th>\n",
              "      <th>shipping_time</th>\n",
              "      <th>product_descrip</th>\n",
              "      <th>product_data1</th>\n",
              "      <th>product_data2</th>\n",
              "      <th>index</th>\n",
              "    </tr>\n",
              "  </thead>\n",
              "  <tbody>\n",
              "    <tr>\n",
              "      <th>0</th>\n",
              "      <td>Ariana 63\" Column Floor Lamp</td>\n",
              "      <td>https://www.wayfair.com/lighting/pdp/zipcode-d...</td>\n",
              "      <td>by Zipcode Design</td>\n",
              "      <td>from $38.02; $38.02</td>\n",
              "      <td>$69.99</td>\n",
              "      <td>3878.0</td>\n",
              "      <td>Rated 4.5 out of 5 stars.3878 total votes.</td>\n",
              "      <td>NaN</td>\n",
              "      <td>Short on space? Make the most of your square f...</td>\n",
              "      <td>Switch Type: On/Off switch</td>\n",
              "      <td>NaN</td>\n",
              "      <td>0</td>\n",
              "    </tr>\n",
              "    <tr>\n",
              "      <th>1</th>\n",
              "      <td>Dale 63.75\" Arched/Arc Floor Lamp</td>\n",
              "      <td>https://www.wayfair.com/v/wayup/sponsored_skus...</td>\n",
              "      <td>by Langley Street</td>\n",
              "      <td>$73.99; $73.99</td>\n",
              "      <td>$99.99</td>\n",
              "      <td>1382.0</td>\n",
              "      <td>Rated 4.5 out of 5 stars.1382 total votes.</td>\n",
              "      <td>FREE 2-Day Shipping</td>\n",
              "      <td>With a slender silhouette, this floor lamp bri...</td>\n",
              "      <td>Switch Type: Foot Switch</td>\n",
              "      <td>Maximum Wattage (per Bulb): 100 Watt</td>\n",
              "      <td>1</td>\n",
              "    </tr>\n",
              "    <tr>\n",
              "      <th>2</th>\n",
              "      <td>Carlisle Douthit 70\" Swing Arm Floor Lamp</td>\n",
              "      <td>https://www.wayfair.com/lighting/pdp/williston...</td>\n",
              "      <td>by Williston Forge</td>\n",
              "      <td>from $104.99; $104.99</td>\n",
              "      <td>$399.99</td>\n",
              "      <td>1084.0</td>\n",
              "      <td>Rated 4.5 out of 5 stars.1084 total votes.</td>\n",
              "      <td>FREE 2-Day Shipping</td>\n",
              "      <td>Part decor and part luminary, we love floor la...</td>\n",
              "      <td>Switch Type: Rotary socket</td>\n",
              "      <td>Maximum Wattage (per Bulb): 100 Watt</td>\n",
              "      <td>2</td>\n",
              "    </tr>\n",
              "    <tr>\n",
              "      <th>3</th>\n",
              "      <td>Morrill 82\" Tree Floor Lamp</td>\n",
              "      <td>https://www.wayfair.com/lighting/pdp/brayden-s...</td>\n",
              "      <td>by Brayden Studio</td>\n",
              "      <td>$143.99; $143.99</td>\n",
              "      <td>$230.00</td>\n",
              "      <td>3476.0</td>\n",
              "      <td>Rated 4.5 out of 5 stars.3476 total votes.</td>\n",
              "      <td>FREE 2-Day Shipping</td>\n",
              "      <td>When your ensemble is in need of a little illu...</td>\n",
              "      <td>Switch Type: 4-Way</td>\n",
              "      <td>Maximum Wattage (per Bulb): 26 Watt</td>\n",
              "      <td>3</td>\n",
              "    </tr>\n",
              "    <tr>\n",
              "      <th>4</th>\n",
              "      <td>Shipton Crystal and Metal 61\" Floor Lamp</td>\n",
              "      <td>https://www.wayfair.com/lighting/pdp/willa-arl...</td>\n",
              "      <td>by Willa Arlo Interiors</td>\n",
              "      <td>$62.99; $62.99</td>\n",
              "      <td>$170.04</td>\n",
              "      <td>2099.0</td>\n",
              "      <td>Rated 4.5 out of 5 stars.2099 total votes.</td>\n",
              "      <td>FREE 2-Day Shipping</td>\n",
              "      <td>Equally alluring sitting sofa-side for a littl...</td>\n",
              "      <td>Switch Type: On/Off switch</td>\n",
              "      <td>Maximum Wattage (per Bulb): 60 Watt</td>\n",
              "      <td>4</td>\n",
              "    </tr>\n",
              "  </tbody>\n",
              "</table>\n",
              "</div>"
            ],
            "text/plain": [
              "                                product_name  ... index\n",
              "0               Ariana 63\" Column Floor Lamp  ...     0\n",
              "1          Dale 63.75\" Arched/Arc Floor Lamp  ...     1\n",
              "2  Carlisle Douthit 70\" Swing Arm Floor Lamp  ...     2\n",
              "3                Morrill 82\" Tree Floor Lamp  ...     3\n",
              "4   Shipton Crystal and Metal 61\" Floor Lamp  ...     4\n",
              "\n",
              "[5 rows x 12 columns]"
            ]
          },
          "metadata": {
            "tags": []
          },
          "execution_count": 43
        }
      ]
    },
    {
      "cell_type": "code",
      "metadata": {
        "id": "JtLUVMQy8vov",
        "colab_type": "code",
        "colab": {}
      },
      "source": [
        "def get_title_from_index(index):\n",
        "    return df_new[df_new.index == index][\"product_name\"].values[0]\n",
        "\n",
        "def get_home(index):\n",
        "    return df_new[df_new.index == index][\"product_name_link\"].values[0]\n",
        "\n",
        "def get_index_from_title(title):\n",
        "    return df_new[df_new.product_name == title][\"index\"].values[0]"
      ],
      "execution_count": 44,
      "outputs": []
    },
    {
      "cell_type": "code",
      "metadata": {
        "id": "9w_5yRIa8vo0",
        "colab_type": "code",
        "colab": {
          "base_uri": "https://localhost:8080/",
          "height": 86
        },
        "outputId": "14112e3c-1755-4dcb-9a30-e7ee00e13df2"
      },
      "source": [
        "print (df_new.columns)"
      ],
      "execution_count": 45,
      "outputs": [
        {
          "output_type": "stream",
          "text": [
            "Index(['product_name', 'product_name_link', 'manufacturer', 'price',\n",
            "       'original_price', 'review_count', 'review_data', 'shipping_time',\n",
            "       'product_descrip', 'product_data1', 'product_data2', 'index'],\n",
            "      dtype='object')\n"
          ],
          "name": "stdout"
        }
      ]
    },
    {
      "cell_type": "code",
      "metadata": {
        "id": "gRkdaf9f8vo4",
        "colab_type": "code",
        "colab": {}
      },
      "source": [
        "df_new['original_price'] = df_new.original_price.str.replace('$', '')\n",
        "df_new['original_price'] = df_new.original_price.str.replace(',', '').astype(float)"
      ],
      "execution_count": 46,
      "outputs": []
    },
    {
      "cell_type": "code",
      "metadata": {
        "id": "dLO1pibB8vo9",
        "colab_type": "code",
        "colab": {}
      },
      "source": [
        "new_price = df_new[\"price\"].str.split(\";\\s\\$\", n = 1, expand = True)\n",
        "df_new[\"new_price\"] = new_price[1]\n",
        "df_new.drop(columns =[\"price\"], inplace = True)"
      ],
      "execution_count": 47,
      "outputs": []
    },
    {
      "cell_type": "code",
      "metadata": {
        "id": "ffp-cFG08vpD",
        "colab_type": "code",
        "colab": {}
      },
      "source": [
        "price_range = df_new[df_new[\"new_price\"].str.contains(\"-\",regex=True)]"
      ],
      "execution_count": 48,
      "outputs": []
    },
    {
      "cell_type": "code",
      "metadata": {
        "id": "-B2b1p0T8vpI",
        "colab_type": "code",
        "colab": {}
      },
      "source": [
        "price_range['new_price'] = (price_range['new_price'].str.split(\"\\s-\", n = 1, expand = True))[0]"
      ],
      "execution_count": 49,
      "outputs": []
    },
    {
      "cell_type": "code",
      "metadata": {
        "id": "XbOWr1Iz8vpN",
        "colab_type": "code",
        "colab": {}
      },
      "source": [
        "df_new.loc[price_range.index] = price_range"
      ],
      "execution_count": 50,
      "outputs": []
    },
    {
      "cell_type": "code",
      "metadata": {
        "id": "4_bbvJKQ8vpR",
        "colab_type": "code",
        "colab": {}
      },
      "source": [
        "df_new['new_price'] = df_new.new_price.str.replace(',', '').astype(float)"
      ],
      "execution_count": 51,
      "outputs": []
    },
    {
      "cell_type": "code",
      "metadata": {
        "id": "e2eZmBnB8vpX",
        "colab_type": "code",
        "colab": {}
      },
      "source": [
        "bins = [0,500,1000,1500,2000,2500,3000,3500,4000,4500,35000]\n",
        "labels = [\"<$500\",\"$500-$1000\",\"$1000-$1500\",\"$1500-$2000\",\"$2000-$2500\",\"$2500-$3000\",\"$3000-$3500\",\"$3500-$4000\",\"$4000-$4500\",\">$4500\"]\n",
        "df_new['price_bracket'] = pd.cut(df_new['new_price'], bins, labels=labels)"
      ],
      "execution_count": 52,
      "outputs": []
    },
    {
      "cell_type": "code",
      "metadata": {
        "id": "JXPMhNWt8vpa",
        "colab_type": "code",
        "colab": {}
      },
      "source": [
        "features = [\"product_data1\",\"product_data2\",\"product_descrip\",\"manufacturer\"]"
      ],
      "execution_count": 53,
      "outputs": []
    },
    {
      "cell_type": "code",
      "metadata": {
        "id": "YNKxRYnC8vpe",
        "colab_type": "code",
        "colab": {}
      },
      "source": [
        "for feature in features:\n",
        "    df_new[feature] = df_new[feature].fillna('')"
      ],
      "execution_count": 54,
      "outputs": []
    },
    {
      "cell_type": "code",
      "metadata": {
        "id": "ehoaStUB8vpi",
        "colab_type": "code",
        "colab": {}
      },
      "source": [
        "def combine_features(row):\n",
        "    try:\n",
        "        return row['product_data1'] +\" \"+row['product_data2']+\" \"+row[\"product_descrip\"]+\" \"+row[\"price_bracket\"]+\" \"+row[\"manufacturer\"]\n",
        "    except:\n",
        "        print(\"Error:\", row)"
      ],
      "execution_count": 55,
      "outputs": []
    },
    {
      "cell_type": "code",
      "metadata": {
        "id": "q2TipRFg8vpm",
        "colab_type": "code",
        "colab": {}
      },
      "source": [
        "df_new[\"combined_features\"] = df_new.apply(combine_features,axis=1)"
      ],
      "execution_count": 56,
      "outputs": []
    },
    {
      "cell_type": "code",
      "metadata": {
        "id": "n08fVu8A8vpp",
        "colab_type": "code",
        "colab": {
          "base_uri": "https://localhost:8080/",
          "height": 487
        },
        "outputId": "56db96f8-12d9-4823-b023-59f498d4f242"
      },
      "source": [
        "df_new.head()"
      ],
      "execution_count": 57,
      "outputs": [
        {
          "output_type": "execute_result",
          "data": {
            "text/html": [
              "<div>\n",
              "<style scoped>\n",
              "    .dataframe tbody tr th:only-of-type {\n",
              "        vertical-align: middle;\n",
              "    }\n",
              "\n",
              "    .dataframe tbody tr th {\n",
              "        vertical-align: top;\n",
              "    }\n",
              "\n",
              "    .dataframe thead th {\n",
              "        text-align: right;\n",
              "    }\n",
              "</style>\n",
              "<table border=\"1\" class=\"dataframe\">\n",
              "  <thead>\n",
              "    <tr style=\"text-align: right;\">\n",
              "      <th></th>\n",
              "      <th>product_name</th>\n",
              "      <th>product_name_link</th>\n",
              "      <th>manufacturer</th>\n",
              "      <th>original_price</th>\n",
              "      <th>review_count</th>\n",
              "      <th>review_data</th>\n",
              "      <th>shipping_time</th>\n",
              "      <th>product_descrip</th>\n",
              "      <th>product_data1</th>\n",
              "      <th>product_data2</th>\n",
              "      <th>index</th>\n",
              "      <th>new_price</th>\n",
              "      <th>price_bracket</th>\n",
              "      <th>combined_features</th>\n",
              "    </tr>\n",
              "  </thead>\n",
              "  <tbody>\n",
              "    <tr>\n",
              "      <th>0</th>\n",
              "      <td>Ariana 63\" Column Floor Lamp</td>\n",
              "      <td>https://www.wayfair.com/lighting/pdp/zipcode-d...</td>\n",
              "      <td>by Zipcode Design</td>\n",
              "      <td>69.99</td>\n",
              "      <td>3878.0</td>\n",
              "      <td>Rated 4.5 out of 5 stars.3878 total votes.</td>\n",
              "      <td>NaN</td>\n",
              "      <td>Short on space? Make the most of your square f...</td>\n",
              "      <td>Switch Type: On/Off switch</td>\n",
              "      <td></td>\n",
              "      <td>0</td>\n",
              "      <td>38.02</td>\n",
              "      <td>&lt;$500</td>\n",
              "      <td>Switch Type: On/Off switch  Short on space? Ma...</td>\n",
              "    </tr>\n",
              "    <tr>\n",
              "      <th>1</th>\n",
              "      <td>Dale 63.75\" Arched/Arc Floor Lamp</td>\n",
              "      <td>https://www.wayfair.com/v/wayup/sponsored_skus...</td>\n",
              "      <td>by Langley Street</td>\n",
              "      <td>99.99</td>\n",
              "      <td>1382.0</td>\n",
              "      <td>Rated 4.5 out of 5 stars.1382 total votes.</td>\n",
              "      <td>FREE 2-Day Shipping</td>\n",
              "      <td>With a slender silhouette, this floor lamp bri...</td>\n",
              "      <td>Switch Type: Foot Switch</td>\n",
              "      <td>Maximum Wattage (per Bulb): 100 Watt</td>\n",
              "      <td>1</td>\n",
              "      <td>73.99</td>\n",
              "      <td>&lt;$500</td>\n",
              "      <td>Switch Type: Foot Switch Maximum Wattage (per ...</td>\n",
              "    </tr>\n",
              "    <tr>\n",
              "      <th>2</th>\n",
              "      <td>Carlisle Douthit 70\" Swing Arm Floor Lamp</td>\n",
              "      <td>https://www.wayfair.com/lighting/pdp/williston...</td>\n",
              "      <td>by Williston Forge</td>\n",
              "      <td>399.99</td>\n",
              "      <td>1084.0</td>\n",
              "      <td>Rated 4.5 out of 5 stars.1084 total votes.</td>\n",
              "      <td>FREE 2-Day Shipping</td>\n",
              "      <td>Part decor and part luminary, we love floor la...</td>\n",
              "      <td>Switch Type: Rotary socket</td>\n",
              "      <td>Maximum Wattage (per Bulb): 100 Watt</td>\n",
              "      <td>2</td>\n",
              "      <td>104.99</td>\n",
              "      <td>&lt;$500</td>\n",
              "      <td>Switch Type: Rotary socket Maximum Wattage (pe...</td>\n",
              "    </tr>\n",
              "    <tr>\n",
              "      <th>3</th>\n",
              "      <td>Morrill 82\" Tree Floor Lamp</td>\n",
              "      <td>https://www.wayfair.com/lighting/pdp/brayden-s...</td>\n",
              "      <td>by Brayden Studio</td>\n",
              "      <td>230.00</td>\n",
              "      <td>3476.0</td>\n",
              "      <td>Rated 4.5 out of 5 stars.3476 total votes.</td>\n",
              "      <td>FREE 2-Day Shipping</td>\n",
              "      <td>When your ensemble is in need of a little illu...</td>\n",
              "      <td>Switch Type: 4-Way</td>\n",
              "      <td>Maximum Wattage (per Bulb): 26 Watt</td>\n",
              "      <td>3</td>\n",
              "      <td>143.99</td>\n",
              "      <td>&lt;$500</td>\n",
              "      <td>Switch Type: 4-Way Maximum Wattage (per Bulb):...</td>\n",
              "    </tr>\n",
              "    <tr>\n",
              "      <th>4</th>\n",
              "      <td>Shipton Crystal and Metal 61\" Floor Lamp</td>\n",
              "      <td>https://www.wayfair.com/lighting/pdp/willa-arl...</td>\n",
              "      <td>by Willa Arlo Interiors</td>\n",
              "      <td>170.04</td>\n",
              "      <td>2099.0</td>\n",
              "      <td>Rated 4.5 out of 5 stars.2099 total votes.</td>\n",
              "      <td>FREE 2-Day Shipping</td>\n",
              "      <td>Equally alluring sitting sofa-side for a littl...</td>\n",
              "      <td>Switch Type: On/Off switch</td>\n",
              "      <td>Maximum Wattage (per Bulb): 60 Watt</td>\n",
              "      <td>4</td>\n",
              "      <td>62.99</td>\n",
              "      <td>&lt;$500</td>\n",
              "      <td>Switch Type: On/Off switch Maximum Wattage (pe...</td>\n",
              "    </tr>\n",
              "  </tbody>\n",
              "</table>\n",
              "</div>"
            ],
            "text/plain": [
              "                                product_name  ...                                  combined_features\n",
              "0               Ariana 63\" Column Floor Lamp  ...  Switch Type: On/Off switch  Short on space? Ma...\n",
              "1          Dale 63.75\" Arched/Arc Floor Lamp  ...  Switch Type: Foot Switch Maximum Wattage (per ...\n",
              "2  Carlisle Douthit 70\" Swing Arm Floor Lamp  ...  Switch Type: Rotary socket Maximum Wattage (pe...\n",
              "3                Morrill 82\" Tree Floor Lamp  ...  Switch Type: 4-Way Maximum Wattage (per Bulb):...\n",
              "4   Shipton Crystal and Metal 61\" Floor Lamp  ...  Switch Type: On/Off switch Maximum Wattage (pe...\n",
              "\n",
              "[5 rows x 14 columns]"
            ]
          },
          "metadata": {
            "tags": []
          },
          "execution_count": 57
        }
      ]
    },
    {
      "cell_type": "code",
      "metadata": {
        "id": "WUTsVbJK8vps",
        "colab_type": "code",
        "colab": {}
      },
      "source": [
        "stop_words = stopwords.words('english')"
      ],
      "execution_count": 58,
      "outputs": []
    },
    {
      "cell_type": "code",
      "metadata": {
        "id": "7tCkNqYJ8vpv",
        "colab_type": "code",
        "colab": {}
      },
      "source": [
        "df_new['combined_features'] = df_new['combined_features'].str.lower().str.split()"
      ],
      "execution_count": 59,
      "outputs": []
    },
    {
      "cell_type": "code",
      "metadata": {
        "id": "dVpMYpBp8vp1",
        "colab_type": "code",
        "colab": {
          "base_uri": "https://localhost:8080/",
          "height": 487
        },
        "outputId": "6076ca91-99af-4111-df98-8d99fd2de7fc"
      },
      "source": [
        "df_new.head()"
      ],
      "execution_count": 60,
      "outputs": [
        {
          "output_type": "execute_result",
          "data": {
            "text/html": [
              "<div>\n",
              "<style scoped>\n",
              "    .dataframe tbody tr th:only-of-type {\n",
              "        vertical-align: middle;\n",
              "    }\n",
              "\n",
              "    .dataframe tbody tr th {\n",
              "        vertical-align: top;\n",
              "    }\n",
              "\n",
              "    .dataframe thead th {\n",
              "        text-align: right;\n",
              "    }\n",
              "</style>\n",
              "<table border=\"1\" class=\"dataframe\">\n",
              "  <thead>\n",
              "    <tr style=\"text-align: right;\">\n",
              "      <th></th>\n",
              "      <th>product_name</th>\n",
              "      <th>product_name_link</th>\n",
              "      <th>manufacturer</th>\n",
              "      <th>original_price</th>\n",
              "      <th>review_count</th>\n",
              "      <th>review_data</th>\n",
              "      <th>shipping_time</th>\n",
              "      <th>product_descrip</th>\n",
              "      <th>product_data1</th>\n",
              "      <th>product_data2</th>\n",
              "      <th>index</th>\n",
              "      <th>new_price</th>\n",
              "      <th>price_bracket</th>\n",
              "      <th>combined_features</th>\n",
              "    </tr>\n",
              "  </thead>\n",
              "  <tbody>\n",
              "    <tr>\n",
              "      <th>0</th>\n",
              "      <td>Ariana 63\" Column Floor Lamp</td>\n",
              "      <td>https://www.wayfair.com/lighting/pdp/zipcode-d...</td>\n",
              "      <td>by Zipcode Design</td>\n",
              "      <td>69.99</td>\n",
              "      <td>3878.0</td>\n",
              "      <td>Rated 4.5 out of 5 stars.3878 total votes.</td>\n",
              "      <td>NaN</td>\n",
              "      <td>Short on space? Make the most of your square f...</td>\n",
              "      <td>Switch Type: On/Off switch</td>\n",
              "      <td></td>\n",
              "      <td>0</td>\n",
              "      <td>38.02</td>\n",
              "      <td>&lt;$500</td>\n",
              "      <td>[switch, type:, on/off, switch, short, on, spa...</td>\n",
              "    </tr>\n",
              "    <tr>\n",
              "      <th>1</th>\n",
              "      <td>Dale 63.75\" Arched/Arc Floor Lamp</td>\n",
              "      <td>https://www.wayfair.com/v/wayup/sponsored_skus...</td>\n",
              "      <td>by Langley Street</td>\n",
              "      <td>99.99</td>\n",
              "      <td>1382.0</td>\n",
              "      <td>Rated 4.5 out of 5 stars.1382 total votes.</td>\n",
              "      <td>FREE 2-Day Shipping</td>\n",
              "      <td>With a slender silhouette, this floor lamp bri...</td>\n",
              "      <td>Switch Type: Foot Switch</td>\n",
              "      <td>Maximum Wattage (per Bulb): 100 Watt</td>\n",
              "      <td>1</td>\n",
              "      <td>73.99</td>\n",
              "      <td>&lt;$500</td>\n",
              "      <td>[switch, type:, foot, switch, maximum, wattage...</td>\n",
              "    </tr>\n",
              "    <tr>\n",
              "      <th>2</th>\n",
              "      <td>Carlisle Douthit 70\" Swing Arm Floor Lamp</td>\n",
              "      <td>https://www.wayfair.com/lighting/pdp/williston...</td>\n",
              "      <td>by Williston Forge</td>\n",
              "      <td>399.99</td>\n",
              "      <td>1084.0</td>\n",
              "      <td>Rated 4.5 out of 5 stars.1084 total votes.</td>\n",
              "      <td>FREE 2-Day Shipping</td>\n",
              "      <td>Part decor and part luminary, we love floor la...</td>\n",
              "      <td>Switch Type: Rotary socket</td>\n",
              "      <td>Maximum Wattage (per Bulb): 100 Watt</td>\n",
              "      <td>2</td>\n",
              "      <td>104.99</td>\n",
              "      <td>&lt;$500</td>\n",
              "      <td>[switch, type:, rotary, socket, maximum, watta...</td>\n",
              "    </tr>\n",
              "    <tr>\n",
              "      <th>3</th>\n",
              "      <td>Morrill 82\" Tree Floor Lamp</td>\n",
              "      <td>https://www.wayfair.com/lighting/pdp/brayden-s...</td>\n",
              "      <td>by Brayden Studio</td>\n",
              "      <td>230.00</td>\n",
              "      <td>3476.0</td>\n",
              "      <td>Rated 4.5 out of 5 stars.3476 total votes.</td>\n",
              "      <td>FREE 2-Day Shipping</td>\n",
              "      <td>When your ensemble is in need of a little illu...</td>\n",
              "      <td>Switch Type: 4-Way</td>\n",
              "      <td>Maximum Wattage (per Bulb): 26 Watt</td>\n",
              "      <td>3</td>\n",
              "      <td>143.99</td>\n",
              "      <td>&lt;$500</td>\n",
              "      <td>[switch, type:, 4-way, maximum, wattage, (per,...</td>\n",
              "    </tr>\n",
              "    <tr>\n",
              "      <th>4</th>\n",
              "      <td>Shipton Crystal and Metal 61\" Floor Lamp</td>\n",
              "      <td>https://www.wayfair.com/lighting/pdp/willa-arl...</td>\n",
              "      <td>by Willa Arlo Interiors</td>\n",
              "      <td>170.04</td>\n",
              "      <td>2099.0</td>\n",
              "      <td>Rated 4.5 out of 5 stars.2099 total votes.</td>\n",
              "      <td>FREE 2-Day Shipping</td>\n",
              "      <td>Equally alluring sitting sofa-side for a littl...</td>\n",
              "      <td>Switch Type: On/Off switch</td>\n",
              "      <td>Maximum Wattage (per Bulb): 60 Watt</td>\n",
              "      <td>4</td>\n",
              "      <td>62.99</td>\n",
              "      <td>&lt;$500</td>\n",
              "      <td>[switch, type:, on/off, switch, maximum, watta...</td>\n",
              "    </tr>\n",
              "  </tbody>\n",
              "</table>\n",
              "</div>"
            ],
            "text/plain": [
              "                                product_name  ...                                  combined_features\n",
              "0               Ariana 63\" Column Floor Lamp  ...  [switch, type:, on/off, switch, short, on, spa...\n",
              "1          Dale 63.75\" Arched/Arc Floor Lamp  ...  [switch, type:, foot, switch, maximum, wattage...\n",
              "2  Carlisle Douthit 70\" Swing Arm Floor Lamp  ...  [switch, type:, rotary, socket, maximum, watta...\n",
              "3                Morrill 82\" Tree Floor Lamp  ...  [switch, type:, 4-way, maximum, wattage, (per,...\n",
              "4   Shipton Crystal and Metal 61\" Floor Lamp  ...  [switch, type:, on/off, switch, maximum, watta...\n",
              "\n",
              "[5 rows x 14 columns]"
            ]
          },
          "metadata": {
            "tags": []
          },
          "execution_count": 60
        }
      ]
    },
    {
      "cell_type": "code",
      "metadata": {
        "id": "ICo_7MsF8vp5",
        "colab_type": "code",
        "colab": {}
      },
      "source": [
        "df_new[\"features\"]=df_new[\"combined_features\"].apply(lambda x: [word for word in x if word not in stop_words])"
      ],
      "execution_count": 61,
      "outputs": []
    },
    {
      "cell_type": "code",
      "metadata": {
        "id": "VptgthnD8vp7",
        "colab_type": "code",
        "colab": {
          "base_uri": "https://localhost:8080/",
          "height": 660
        },
        "outputId": "ffddf50b-b001-434f-a674-a290e0a41554"
      },
      "source": [
        "df_new.head()"
      ],
      "execution_count": 62,
      "outputs": [
        {
          "output_type": "execute_result",
          "data": {
            "text/html": [
              "<div>\n",
              "<style scoped>\n",
              "    .dataframe tbody tr th:only-of-type {\n",
              "        vertical-align: middle;\n",
              "    }\n",
              "\n",
              "    .dataframe tbody tr th {\n",
              "        vertical-align: top;\n",
              "    }\n",
              "\n",
              "    .dataframe thead th {\n",
              "        text-align: right;\n",
              "    }\n",
              "</style>\n",
              "<table border=\"1\" class=\"dataframe\">\n",
              "  <thead>\n",
              "    <tr style=\"text-align: right;\">\n",
              "      <th></th>\n",
              "      <th>product_name</th>\n",
              "      <th>product_name_link</th>\n",
              "      <th>manufacturer</th>\n",
              "      <th>original_price</th>\n",
              "      <th>review_count</th>\n",
              "      <th>review_data</th>\n",
              "      <th>shipping_time</th>\n",
              "      <th>product_descrip</th>\n",
              "      <th>product_data1</th>\n",
              "      <th>product_data2</th>\n",
              "      <th>index</th>\n",
              "      <th>new_price</th>\n",
              "      <th>price_bracket</th>\n",
              "      <th>combined_features</th>\n",
              "      <th>features</th>\n",
              "    </tr>\n",
              "  </thead>\n",
              "  <tbody>\n",
              "    <tr>\n",
              "      <th>0</th>\n",
              "      <td>Ariana 63\" Column Floor Lamp</td>\n",
              "      <td>https://www.wayfair.com/lighting/pdp/zipcode-d...</td>\n",
              "      <td>by Zipcode Design</td>\n",
              "      <td>69.99</td>\n",
              "      <td>3878.0</td>\n",
              "      <td>Rated 4.5 out of 5 stars.3878 total votes.</td>\n",
              "      <td>NaN</td>\n",
              "      <td>Short on space? Make the most of your square f...</td>\n",
              "      <td>Switch Type: On/Off switch</td>\n",
              "      <td></td>\n",
              "      <td>0</td>\n",
              "      <td>38.02</td>\n",
              "      <td>&lt;$500</td>\n",
              "      <td>[switch, type:, on/off, switch, short, on, spa...</td>\n",
              "      <td>[switch, type:, on/off, switch, short, space?,...</td>\n",
              "    </tr>\n",
              "    <tr>\n",
              "      <th>1</th>\n",
              "      <td>Dale 63.75\" Arched/Arc Floor Lamp</td>\n",
              "      <td>https://www.wayfair.com/v/wayup/sponsored_skus...</td>\n",
              "      <td>by Langley Street</td>\n",
              "      <td>99.99</td>\n",
              "      <td>1382.0</td>\n",
              "      <td>Rated 4.5 out of 5 stars.1382 total votes.</td>\n",
              "      <td>FREE 2-Day Shipping</td>\n",
              "      <td>With a slender silhouette, this floor lamp bri...</td>\n",
              "      <td>Switch Type: Foot Switch</td>\n",
              "      <td>Maximum Wattage (per Bulb): 100 Watt</td>\n",
              "      <td>1</td>\n",
              "      <td>73.99</td>\n",
              "      <td>&lt;$500</td>\n",
              "      <td>[switch, type:, foot, switch, maximum, wattage...</td>\n",
              "      <td>[switch, type:, foot, switch, maximum, wattage...</td>\n",
              "    </tr>\n",
              "    <tr>\n",
              "      <th>2</th>\n",
              "      <td>Carlisle Douthit 70\" Swing Arm Floor Lamp</td>\n",
              "      <td>https://www.wayfair.com/lighting/pdp/williston...</td>\n",
              "      <td>by Williston Forge</td>\n",
              "      <td>399.99</td>\n",
              "      <td>1084.0</td>\n",
              "      <td>Rated 4.5 out of 5 stars.1084 total votes.</td>\n",
              "      <td>FREE 2-Day Shipping</td>\n",
              "      <td>Part decor and part luminary, we love floor la...</td>\n",
              "      <td>Switch Type: Rotary socket</td>\n",
              "      <td>Maximum Wattage (per Bulb): 100 Watt</td>\n",
              "      <td>2</td>\n",
              "      <td>104.99</td>\n",
              "      <td>&lt;$500</td>\n",
              "      <td>[switch, type:, rotary, socket, maximum, watta...</td>\n",
              "      <td>[switch, type:, rotary, socket, maximum, watta...</td>\n",
              "    </tr>\n",
              "    <tr>\n",
              "      <th>3</th>\n",
              "      <td>Morrill 82\" Tree Floor Lamp</td>\n",
              "      <td>https://www.wayfair.com/lighting/pdp/brayden-s...</td>\n",
              "      <td>by Brayden Studio</td>\n",
              "      <td>230.00</td>\n",
              "      <td>3476.0</td>\n",
              "      <td>Rated 4.5 out of 5 stars.3476 total votes.</td>\n",
              "      <td>FREE 2-Day Shipping</td>\n",
              "      <td>When your ensemble is in need of a little illu...</td>\n",
              "      <td>Switch Type: 4-Way</td>\n",
              "      <td>Maximum Wattage (per Bulb): 26 Watt</td>\n",
              "      <td>3</td>\n",
              "      <td>143.99</td>\n",
              "      <td>&lt;$500</td>\n",
              "      <td>[switch, type:, 4-way, maximum, wattage, (per,...</td>\n",
              "      <td>[switch, type:, 4-way, maximum, wattage, (per,...</td>\n",
              "    </tr>\n",
              "    <tr>\n",
              "      <th>4</th>\n",
              "      <td>Shipton Crystal and Metal 61\" Floor Lamp</td>\n",
              "      <td>https://www.wayfair.com/lighting/pdp/willa-arl...</td>\n",
              "      <td>by Willa Arlo Interiors</td>\n",
              "      <td>170.04</td>\n",
              "      <td>2099.0</td>\n",
              "      <td>Rated 4.5 out of 5 stars.2099 total votes.</td>\n",
              "      <td>FREE 2-Day Shipping</td>\n",
              "      <td>Equally alluring sitting sofa-side for a littl...</td>\n",
              "      <td>Switch Type: On/Off switch</td>\n",
              "      <td>Maximum Wattage (per Bulb): 60 Watt</td>\n",
              "      <td>4</td>\n",
              "      <td>62.99</td>\n",
              "      <td>&lt;$500</td>\n",
              "      <td>[switch, type:, on/off, switch, maximum, watta...</td>\n",
              "      <td>[switch, type:, on/off, switch, maximum, watta...</td>\n",
              "    </tr>\n",
              "  </tbody>\n",
              "</table>\n",
              "</div>"
            ],
            "text/plain": [
              "                                product_name  ...                                           features\n",
              "0               Ariana 63\" Column Floor Lamp  ...  [switch, type:, on/off, switch, short, space?,...\n",
              "1          Dale 63.75\" Arched/Arc Floor Lamp  ...  [switch, type:, foot, switch, maximum, wattage...\n",
              "2  Carlisle Douthit 70\" Swing Arm Floor Lamp  ...  [switch, type:, rotary, socket, maximum, watta...\n",
              "3                Morrill 82\" Tree Floor Lamp  ...  [switch, type:, 4-way, maximum, wattage, (per,...\n",
              "4   Shipton Crystal and Metal 61\" Floor Lamp  ...  [switch, type:, on/off, switch, maximum, watta...\n",
              "\n",
              "[5 rows x 15 columns]"
            ]
          },
          "metadata": {
            "tags": []
          },
          "execution_count": 62
        }
      ]
    },
    {
      "cell_type": "code",
      "metadata": {
        "id": "jOBdIAZ38vqA",
        "colab_type": "code",
        "colab": {}
      },
      "source": [
        "df_new[\"features\"]=df_new[\"features\"].apply(lambda x: \" \".join(x))"
      ],
      "execution_count": 63,
      "outputs": []
    },
    {
      "cell_type": "code",
      "metadata": {
        "id": "Pqu8POo48vqC",
        "colab_type": "code",
        "colab": {}
      },
      "source": [
        "cv = CountVectorizer()"
      ],
      "execution_count": 64,
      "outputs": []
    },
    {
      "cell_type": "code",
      "metadata": {
        "id": "RDMTC8Ro8vqJ",
        "colab_type": "code",
        "colab": {}
      },
      "source": [
        "count_matrix = cv.fit_transform(df_new[\"features\"])\n"
      ],
      "execution_count": 65,
      "outputs": []
    },
    {
      "cell_type": "code",
      "metadata": {
        "id": "s8UqOP5v8vqM",
        "colab_type": "code",
        "colab": {
          "base_uri": "https://localhost:8080/",
          "height": 52
        },
        "outputId": "d8984120-9e43-4bb1-fb4c-ca48febf4eb7"
      },
      "source": [
        "count_matrix"
      ],
      "execution_count": 66,
      "outputs": [
        {
          "output_type": "execute_result",
          "data": {
            "text/plain": [
              "<17209x13136 sparse matrix of type '<class 'numpy.int64'>'\n",
              "\twith 607000 stored elements in Compressed Sparse Row format>"
            ]
          },
          "metadata": {
            "tags": []
          },
          "execution_count": 66
        }
      ]
    },
    {
      "cell_type": "code",
      "metadata": {
        "id": "0-Nucu2B8vqQ",
        "colab_type": "code",
        "colab": {}
      },
      "source": [
        "cosine_sim = cosine_similarity(count_matrix)"
      ],
      "execution_count": 67,
      "outputs": []
    },
    {
      "cell_type": "code",
      "metadata": {
        "id": "aoEu-_FR8vqS",
        "colab_type": "code",
        "colab": {}
      },
      "source": [
        "product_user_likes = 'Sofa'"
      ],
      "execution_count": 68,
      "outputs": []
    },
    {
      "cell_type": "code",
      "metadata": {
        "id": "33hNpD7C8vqV",
        "colab_type": "code",
        "colab": {}
      },
      "source": [
        "product_index = get_index_from_title(product_user_likes)\n",
        "\n",
        "similar_products =  list(enumerate(cosine_sim[product_index]))"
      ],
      "execution_count": 69,
      "outputs": []
    },
    {
      "cell_type": "code",
      "metadata": {
        "id": "7Xyho-oG8vqZ",
        "colab_type": "code",
        "colab": {}
      },
      "source": [
        "sorted_similar_products = sorted(similar_products,key=lambda x:x[1],reverse=True)"
      ],
      "execution_count": 70,
      "outputs": []
    },
    {
      "cell_type": "code",
      "metadata": {
        "id": "RVuVv66_8vqc",
        "colab_type": "code",
        "colab": {
          "base_uri": "https://localhost:8080/",
          "height": 975
        },
        "outputId": "751e1e77-1a6a-412e-9e63-da701242235b"
      },
      "source": [
        "print('LIST OF ALL RECOMMENDED PRODUCT IF INPUT IS \"{}\"'.format(product_user_likes))\n",
        "print()\n",
        "print()\n",
        "i=0\n",
        "for element in sorted_similar_products:\n",
        "        print (get_title_from_index(element[0]),get_home(element[0]))\n",
        "        i=i+1\n",
        "        if i>50:\n",
        "            break"
      ],
      "execution_count": 71,
      "outputs": [
        {
          "output_type": "stream",
          "text": [
            "LIST OF ALL RECOMMENDED PRODUCT IF INPUT IS \"Sofa\"\n",
            "\n",
            "\n",
            "Sofa https://www.wayfair.com/furniture/pdp/madison-home-usa-sofa-mhus1251.html\n",
            "Mid Century Modern Ultra Plush Linen Fabric Sofa https://www.wayfair.com/furniture/pdp/madison-home-usa-mid-century-modern-ultra-plush-linen-fabric-sofa-mhus1163.html\n",
            "Modern Sofa https://www.wayfair.com/furniture/pdp/madison-home-usa-modern-sofa-mhus1131.html\n",
            "Elvie Sofa https://www.wayfair.com/furniture/pdp/ebern-designs-elvie-sofa-w000156164.html\n",
            "Loveseat https://www.wayfair.com/furniture/pdp/madison-home-usa-loveseat-mhus1164.html\n",
            "Sofa https://www.wayfair.com/furniture/pdp/madison-home-usa-sofa-mhus1202.html\n",
            "Mid-Century Modern Large Sofa with Casters https://www.wayfair.com/furniture/pdp/madison-home-usa-mid-century-modern-large-sofa-with-casters-mhus1130.html\n",
            "Ladner Sofa https://www.wayfair.com/furniture/pdp/wrought-studio-ladner-sofa-w000460892.html\n",
            "Classic Plush Sofa https://www.wayfair.com/furniture/pdp/madison-home-usa-classic-plush-sofa-mhus1168.html\n",
            "Loveseat https://www.wayfair.com/furniture/pdp/madison-home-usa-loveseat-mhus1193.html\n",
            "Cary Modern Fabric Sofa https://www.wayfair.com/furniture/pdp/orren-ellis-cary-modern-fabric-sofa-w000281884.html\n",
            "Yarbro Convertible Sleeper https://www.wayfair.com/furniture/pdp/george-oliver-yarbro-convertible-sleeper-golv4702.html\n",
            "Modern Sofa https://www.wayfair.com/furniture/pdp/madison-home-usa-modern-sofa-mhus1132.html\n",
            "Vaughan Sofa https://www.wayfair.com/furniture/pdp/turn-on-the-brights-vaughan-sofa-w001219011.html\n",
            "Mid-Century Modern Linen Fabric Living Room Sofa https://www.wayfair.com/furniture/pdp/madison-home-usa-mid-century-modern-linen-fabric-living-room-sofa-mhus1249.html\n",
            "Convertible Sofa https://www.wayfair.com/furniture/pdp/madison-home-usa-convertible-sofa-mhus1108.html\n",
            "Mid-Century Sofa https://www.wayfair.com/furniture/pdp/madison-home-usa-mid-century-sofa-mhus1135.html\n",
            "Antwan Sofa https://www.wayfair.com/furniture/pdp/corrigan-studio-antwan-sofa-ahsu0167.html\n",
            "Erastus Tufted Button Sofa https://www.wayfair.com/furniture/pdp/zipcode-design-erastus-tufted-button-sofa-w000575298.html\n",
            "Seagle Mid Century Modern Sofa https://www.wayfair.com/furniture/pdp/wrought-studio-seagle-mid-century-modern-sofa-vark1683.html\n",
            "Vaughan Loveseat https://www.wayfair.com/furniture/pdp/turn-on-the-brights-vaughan-loveseat-w000455129.html\n",
            "Luciano Sofa https://www.wayfair.com/furniture/pdp/george-oliver-luciano-sofa-uspf9380.html\n",
            "Mid-Century Modern Loveseat https://www.wayfair.com/furniture/pdp/madison-home-usa-mid-century-modern-loveseat-mhus1068.html\n",
            "Julieta Mid-Century Sofa https://www.wayfair.com/furniture/pdp/brayden-studio-julieta-mid-century-sofa-w000138457.html\n",
            "Gutman Sofa https://www.wayfair.com/furniture/pdp/ivy-bronx-gutman-sofa-ivbx8598.html\n",
            "Overstuffed Sofa https://www.wayfair.com/furniture/pdp/madison-home-usa-overstuffed-sofa-mhus1058.html\n",
            "Betances Modern Living Room Fabric Sofa https://www.wayfair.com/furniture/pdp/orren-ellis-betances-modern-living-room-fabric-sofa-ornl6063.html\n",
            "Cowen Modern Lip-shape Sofa https://www.wayfair.com/furniture/pdp/orren-ellis-cowen-modern-lip-shape-sofa-w000649869.html\n",
            "Wojtala Mid-Century Modern Sofa https://www.wayfair.com/furniture/pdp/union-rustic-wojtala-mid-century-modern-sofa-unrs4841.html\n",
            "Browerville Sofa https://www.wayfair.com/furniture/pdp/wrought-studio-browerville-sofa-wrse1544.html\n",
            "Mortensen Sofa https://www.wayfair.com/furniture/pdp/latitude-run-mortensen-sofa-shff1052.html\n",
            "Martini Sofa https://www.wayfair.com/furniture/pdp/gracie-oaks-martini-sofa-w000528740.html\n",
            "Leather Reclining Sofa https://www.wayfair.com/furniture/pdp/madison-home-usa-leather-reclining-sofa-mhus1035.html\n",
            "Reclining Sofa https://www.wayfair.com/furniture/pdp/madison-home-usa-reclining-sofa-mhus1032.html\n",
            "Brummett Mid-Century Sofa https://www.wayfair.com/furniture/pdp/george-oliver-brummett-mid-century-sofa-w000920935.html\n",
            "Maliana Sofa https://www.wayfair.com/furniture/pdp/wrought-studio-maliana-sofa-vark7886.html\n",
            "Phifer Loveseat https://www.wayfair.com/furniture/pdp/latitude-run-phifer-loveseat-lttn1330.html\n",
            "Lyles Sofa https://www.wayfair.com/furniture/pdp/union-rustic-lyles-sofa-unrs6727.html\n",
            "Battaglia Vintage Sofa https://www.wayfair.com/furniture/pdp/darby-home-co-battaglia-vintage-sofa-w000211700.html\n",
            "Modern Loveseat https://www.wayfair.com/furniture/pdp/madison-home-usa-modern-loveseat-mhus1315.html\n",
            "Catargiu Convertible Sofa https://www.wayfair.com/furniture/pdp/ebern-designs-catargiu-convertible-sofa-mhus1612.html\n",
            "Bel-Air Sofa https://www.wayfair.com/furniture/pdp/turn-on-the-brights-bel-air-sofa-w001468518.html\n",
            "Leather Chesterfield Loveseat https://www.wayfair.com/furniture/pdp/madison-home-usa-leather-chesterfield-loveseat-mhus1056.html\n",
            "Carlisle Sofa https://www.wayfair.com/furniture/pdp/serta-at-home-carlisle-sofa-sert1155.html\n",
            "Amburgey Sofa https://www.wayfair.com/furniture/pdp/darby-home-co-amburgey-sofa-w000638693.html\n",
            "Collings Modern Sofa https://www.wayfair.com/furniture/pdp/wrought-studio-collings-modern-sofa-gmhd1120.html\n",
            "Artesia Sofa https://www.wayfair.com/furniture/pdp/serta-at-home-artesia-sofa-sert1114.html\n",
            "Lynnhaven Classic Modern Ultra Comfortable Sofa https://www.wayfair.com/furniture/pdp/charlton-home-lynnhaven-classic-modern-ultra-comfortable-sofa-chrl7912.html\n",
            "Luciano Loveseat https://www.wayfair.com/furniture/pdp/george-oliver-luciano-loveseat-uspf9379.html\n",
            "Sierra Sofa https://www.wayfair.com/furniture/pdp/serta-at-home-sierra-sofa-sert1120.html\n",
            "Abbott Mid-Century Standard Loveseat https://www.wayfair.com/furniture/pdp/turn-on-the-brights-abbott-mid-century-standard-loveseat-w001468555.html\n"
          ],
          "name": "stdout"
        }
      ]
    },
    {
      "cell_type": "code",
      "metadata": {
        "id": "QUcP0qhT8vqf",
        "colab_type": "code",
        "colab": {}
      },
      "source": [
        ""
      ],
      "execution_count": null,
      "outputs": []
    }
  ]
}